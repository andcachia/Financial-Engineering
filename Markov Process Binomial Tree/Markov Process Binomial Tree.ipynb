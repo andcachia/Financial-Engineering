{
 "cells": [
  {
   "cell_type": "markdown",
   "metadata": {},
   "source": [
    "# Financial Engineering - Markov Process Binomial Tree"
   ]
  },
  {
   "cell_type": "markdown",
   "metadata": {},
   "source": [
    "##### Andrew Cachia, Jan 2018"
   ]
  },
  {
   "cell_type": "markdown",
   "metadata": {},
   "source": [
    "#### Imports"
   ]
  },
  {
   "cell_type": "code",
   "execution_count": 28,
   "metadata": {},
   "outputs": [],
   "source": [
    "import numpy as np\n",
    "import pandas as pd\n",
    "import random\n",
    "import matplotlib.pyplot as plt  \n",
    "from pandas_datareader import data as pdr\n",
    "import fix_yahoo_finance as yf\n",
    "from scipy.optimize import minimize\n",
    "import math"
   ]
  },
  {
   "cell_type": "markdown",
   "metadata": {},
   "source": [
    "#### Data"
   ]
  },
  {
   "cell_type": "code",
   "execution_count": 29,
   "metadata": {},
   "outputs": [
    {
     "name": "stdout",
     "output_type": "stream",
     "text": [
      "[*********************100%***********************]  1 of 1 downloaded\n"
     ]
    },
    {
     "data": {
      "text/html": [
       "<div>\n",
       "<style scoped>\n",
       "    .dataframe tbody tr th:only-of-type {\n",
       "        vertical-align: middle;\n",
       "    }\n",
       "\n",
       "    .dataframe tbody tr th {\n",
       "        vertical-align: top;\n",
       "    }\n",
       "\n",
       "    .dataframe thead th {\n",
       "        text-align: right;\n",
       "    }\n",
       "</style>\n",
       "<table border=\"1\" class=\"dataframe\">\n",
       "  <thead>\n",
       "    <tr style=\"text-align: right;\">\n",
       "      <th></th>\n",
       "      <th>Open</th>\n",
       "      <th>High</th>\n",
       "      <th>Low</th>\n",
       "      <th>Close</th>\n",
       "      <th>Adj Close</th>\n",
       "      <th>Volume</th>\n",
       "    </tr>\n",
       "    <tr>\n",
       "      <th>Date</th>\n",
       "      <th></th>\n",
       "      <th></th>\n",
       "      <th></th>\n",
       "      <th></th>\n",
       "      <th></th>\n",
       "      <th></th>\n",
       "    </tr>\n",
       "  </thead>\n",
       "  <tbody>\n",
       "    <tr>\n",
       "      <th>2012-12-31</th>\n",
       "      <td>347.738312</td>\n",
       "      <td>352.989136</td>\n",
       "      <td>345.751221</td>\n",
       "      <td>351.404449</td>\n",
       "      <td>351.404449</td>\n",
       "      <td>4020600</td>\n",
       "    </tr>\n",
       "    <tr>\n",
       "      <th>2013-01-02</th>\n",
       "      <td>357.385559</td>\n",
       "      <td>361.151062</td>\n",
       "      <td>355.959839</td>\n",
       "      <td>359.288177</td>\n",
       "      <td>359.288177</td>\n",
       "      <td>5115500</td>\n",
       "    </tr>\n",
       "    <tr>\n",
       "      <th>2013-01-03</th>\n",
       "      <td>360.122742</td>\n",
       "      <td>363.600128</td>\n",
       "      <td>358.031342</td>\n",
       "      <td>359.496826</td>\n",
       "      <td>359.496826</td>\n",
       "      <td>4666500</td>\n",
       "    </tr>\n",
       "    <tr>\n",
       "      <th>2013-01-04</th>\n",
       "      <td>362.313507</td>\n",
       "      <td>368.339294</td>\n",
       "      <td>361.488861</td>\n",
       "      <td>366.600616</td>\n",
       "      <td>366.600616</td>\n",
       "      <td>5562800</td>\n",
       "    </tr>\n",
       "    <tr>\n",
       "      <th>2013-01-07</th>\n",
       "      <td>365.348755</td>\n",
       "      <td>367.301056</td>\n",
       "      <td>362.929504</td>\n",
       "      <td>365.001007</td>\n",
       "      <td>365.001007</td>\n",
       "      <td>3332900</td>\n",
       "    </tr>\n",
       "  </tbody>\n",
       "</table>\n",
       "</div>"
      ],
      "text/plain": [
       "                  Open        High         Low       Close   Adj Close  \\\n",
       "Date                                                                     \n",
       "2012-12-31  347.738312  352.989136  345.751221  351.404449  351.404449   \n",
       "2013-01-02  357.385559  361.151062  355.959839  359.288177  359.288177   \n",
       "2013-01-03  360.122742  363.600128  358.031342  359.496826  359.496826   \n",
       "2013-01-04  362.313507  368.339294  361.488861  366.600616  366.600616   \n",
       "2013-01-07  365.348755  367.301056  362.929504  365.001007  365.001007   \n",
       "\n",
       "             Volume  \n",
       "Date                 \n",
       "2012-12-31  4020600  \n",
       "2013-01-02  5115500  \n",
       "2013-01-03  4666500  \n",
       "2013-01-04  5562800  \n",
       "2013-01-07  3332900  "
      ]
     },
     "execution_count": 29,
     "metadata": {},
     "output_type": "execute_result"
    }
   ],
   "source": [
    "date_start = \"2013-01-01\"\n",
    "date_end = \"2017-12-31\"\n",
    "\n",
    "symbols = ['GOOG']\n",
    "\n",
    "data = pd.DataFrame()\n",
    "yf.pdr_override() \n",
    "data = pdr.get_data_yahoo(symbols, start=date_start, end=date_end)\n",
    "data.head()"
   ]
  },
  {
   "cell_type": "code",
   "execution_count": 30,
   "metadata": {},
   "outputs": [
    {
     "data": {
      "text/plain": [
       "Date\n",
       "2013-01-02    0.022187\n",
       "2013-01-03    0.000581\n",
       "2013-01-04    0.019568\n",
       "2013-01-07   -0.004373\n",
       "2013-01-08   -0.001975\n",
       "Name: Adj Close, dtype: float64"
      ]
     },
     "execution_count": 30,
     "metadata": {},
     "output_type": "execute_result"
    }
   ],
   "source": [
    "returns = data['Adj Close'] / data['Adj Close'].shift(1)\n",
    "returns = returns.dropna()\n",
    "returns = np.log(returns)\n",
    "returns.head()"
   ]
  },
  {
   "cell_type": "markdown",
   "metadata": {},
   "source": [
    "### Asset Statistics"
   ]
  },
  {
   "cell_type": "code",
   "execution_count": 31,
   "metadata": {},
   "outputs": [
    {
     "name": "stdout",
     "output_type": "stream",
     "text": [
      "Std dev: 22.81%\n",
      "Expected Growth: 21.82%\n",
      "DeltaT:  8.33%\n",
      "Up Factor: 106.81%\n",
      "Down Factor: 93.63%\n",
      "Up probability: 62.28%\n",
      "Down probability: 37.72%\n"
     ]
    }
   ],
   "source": [
    "yearly_closing = returns.groupby(returns.index.year).sum()\n",
    "expected_growth = yearly_closing.mean()\n",
    "std_dev = yearly_closing.std()\n",
    "\n",
    "simulation_time = 0.5\n",
    "number_price_changes = 6\n",
    "deltaT = simulation_time / number_price_changes\n",
    "\n",
    "up_factor = math.exp(std_dev * math.sqrt(deltaT))\n",
    "down_factor = 1 / up_factor\n",
    "\n",
    "up_probability = (math.exp(expected_growth*deltaT)-down_factor) / (up_factor-down_factor)\n",
    "down_probability = 1 - up_probability\n",
    "\n",
    "print(\"Std dev: %5.2f%%\" % (std_dev * 100))\n",
    "print(\"Expected Growth: %5.2f%%\" % (expected_growth * 100))\n",
    "print(\"DeltaT: %5.2f%%\" % (deltaT * 100))\n",
    "print(\"Up Factor: %5.2f%%\" % (up_factor * 100))\n",
    "print(\"Down Factor: %5.2f%%\" % (down_factor * 100))\n",
    "print(\"Up probability: %5.2f%%\" % (up_probability * 100))\n",
    "print(\"Down probability: %5.2f%%\" % (down_probability * 100))"
   ]
  },
  {
   "cell_type": "markdown",
   "metadata": {},
   "source": [
    "## Project Stock Prices"
   ]
  },
  {
   "cell_type": "code",
   "execution_count": 32,
   "metadata": {},
   "outputs": [
    {
     "data": {
      "text/html": [
       "<div>\n",
       "<style scoped>\n",
       "    .dataframe tbody tr th:only-of-type {\n",
       "        vertical-align: middle;\n",
       "    }\n",
       "\n",
       "    .dataframe tbody tr th {\n",
       "        vertical-align: top;\n",
       "    }\n",
       "\n",
       "    .dataframe thead th {\n",
       "        text-align: right;\n",
       "    }\n",
       "</style>\n",
       "<table border=\"1\" class=\"dataframe\">\n",
       "  <thead>\n",
       "    <tr style=\"text-align: right;\">\n",
       "      <th></th>\n",
       "      <th>Month0</th>\n",
       "      <th>Month1</th>\n",
       "      <th>Month2</th>\n",
       "      <th>Month3</th>\n",
       "      <th>Month4</th>\n",
       "      <th>Month5</th>\n",
       "      <th>Month6</th>\n",
       "    </tr>\n",
       "  </thead>\n",
       "  <tbody>\n",
       "    <tr>\n",
       "      <th>0</th>\n",
       "      <td>1046.400024</td>\n",
       "      <td>1117.626513</td>\n",
       "      <td>1193.701257</td>\n",
       "      <td>1274.954265</td>\n",
       "      <td>1361.738014</td>\n",
       "      <td>1454.428969</td>\n",
       "      <td>1553.429225</td>\n",
       "    </tr>\n",
       "    <tr>\n",
       "      <th>1</th>\n",
       "      <td>NaN</td>\n",
       "      <td>979.712808</td>\n",
       "      <td>1046.400024</td>\n",
       "      <td>1117.626513</td>\n",
       "      <td>1193.701257</td>\n",
       "      <td>1274.954265</td>\n",
       "      <td>1361.738014</td>\n",
       "    </tr>\n",
       "    <tr>\n",
       "      <th>2</th>\n",
       "      <td>NaN</td>\n",
       "      <td>NaN</td>\n",
       "      <td>917.275578</td>\n",
       "      <td>979.712808</td>\n",
       "      <td>1046.400024</td>\n",
       "      <td>1117.626513</td>\n",
       "      <td>1193.701257</td>\n",
       "    </tr>\n",
       "    <tr>\n",
       "      <th>3</th>\n",
       "      <td>NaN</td>\n",
       "      <td>NaN</td>\n",
       "      <td>NaN</td>\n",
       "      <td>858.817481</td>\n",
       "      <td>917.275578</td>\n",
       "      <td>979.712808</td>\n",
       "      <td>1046.400024</td>\n",
       "    </tr>\n",
       "    <tr>\n",
       "      <th>4</th>\n",
       "      <td>NaN</td>\n",
       "      <td>NaN</td>\n",
       "      <td>NaN</td>\n",
       "      <td>NaN</td>\n",
       "      <td>804.084926</td>\n",
       "      <td>858.817481</td>\n",
       "      <td>917.275578</td>\n",
       "    </tr>\n",
       "    <tr>\n",
       "      <th>5</th>\n",
       "      <td>NaN</td>\n",
       "      <td>NaN</td>\n",
       "      <td>NaN</td>\n",
       "      <td>NaN</td>\n",
       "      <td>NaN</td>\n",
       "      <td>752.840485</td>\n",
       "      <td>804.084926</td>\n",
       "    </tr>\n",
       "    <tr>\n",
       "      <th>6</th>\n",
       "      <td>NaN</td>\n",
       "      <td>NaN</td>\n",
       "      <td>NaN</td>\n",
       "      <td>NaN</td>\n",
       "      <td>NaN</td>\n",
       "      <td>NaN</td>\n",
       "      <td>704.861858</td>\n",
       "    </tr>\n",
       "  </tbody>\n",
       "</table>\n",
       "</div>"
      ],
      "text/plain": [
       "        Month0       Month1       Month2       Month3       Month4  \\\n",
       "0  1046.400024  1117.626513  1193.701257  1274.954265  1361.738014   \n",
       "1          NaN   979.712808  1046.400024  1117.626513  1193.701257   \n",
       "2          NaN          NaN   917.275578   979.712808  1046.400024   \n",
       "3          NaN          NaN          NaN   858.817481   917.275578   \n",
       "4          NaN          NaN          NaN          NaN   804.084926   \n",
       "5          NaN          NaN          NaN          NaN          NaN   \n",
       "6          NaN          NaN          NaN          NaN          NaN   \n",
       "\n",
       "        Month5       Month6  \n",
       "0  1454.428969  1553.429225  \n",
       "1  1274.954265  1361.738014  \n",
       "2  1117.626513  1193.701257  \n",
       "3   979.712808  1046.400024  \n",
       "4   858.817481   917.275578  \n",
       "5   752.840485   804.084926  \n",
       "6          NaN   704.861858  "
      ]
     },
     "execution_count": 32,
     "metadata": {},
     "output_type": "execute_result"
    }
   ],
   "source": [
    "projected_prices = []\n",
    "current_price = data['Adj Close'].tail(1).values\n",
    "#current_price = [100]\n",
    "projected_prices.append(current_price)\n",
    "\n",
    "\n",
    "\n",
    "for i in range(1,number_price_changes+1):\n",
    "    temp = []\n",
    "    for j in range(0,len(projected_prices[i-1])+1):\n",
    "        if j==0:\n",
    "            price = projected_prices[i-1][0] * up_factor\n",
    "        else:\n",
    "            price = projected_prices[i-1][j-1] * down_factor\n",
    "        #print(price)\n",
    "        temp.append(price)\n",
    "    #print(\"--\")\n",
    "    projected_prices.append(temp)\n",
    "    \n",
    "tree = pd.DataFrame(projected_prices).T\n",
    "tree.columns = ['Month'+str(i) for i in range(0,number_price_changes+1)]\n",
    "tree"
   ]
  },
  {
   "cell_type": "markdown",
   "metadata": {},
   "source": [
    "## Project Probabilities"
   ]
  },
  {
   "cell_type": "code",
   "execution_count": 33,
   "metadata": {},
   "outputs": [
    {
     "data": {
      "text/html": [
       "<div>\n",
       "<style scoped>\n",
       "    .dataframe tbody tr th:only-of-type {\n",
       "        vertical-align: middle;\n",
       "    }\n",
       "\n",
       "    .dataframe tbody tr th {\n",
       "        vertical-align: top;\n",
       "    }\n",
       "\n",
       "    .dataframe thead th {\n",
       "        text-align: right;\n",
       "    }\n",
       "</style>\n",
       "<table border=\"1\" class=\"dataframe\">\n",
       "  <thead>\n",
       "    <tr style=\"text-align: right;\">\n",
       "      <th></th>\n",
       "      <th>Month0</th>\n",
       "      <th>Month1</th>\n",
       "      <th>Month2</th>\n",
       "      <th>Month3</th>\n",
       "      <th>Month4</th>\n",
       "      <th>Month5</th>\n",
       "      <th>Month6</th>\n",
       "    </tr>\n",
       "  </thead>\n",
       "  <tbody>\n",
       "    <tr>\n",
       "      <th>0</th>\n",
       "      <td>1.0</td>\n",
       "      <td>0.622791</td>\n",
       "      <td>0.387868</td>\n",
       "      <td>0.241561</td>\n",
       "      <td>0.150442</td>\n",
       "      <td>0.093694</td>\n",
       "      <td>0.058352</td>\n",
       "    </tr>\n",
       "    <tr>\n",
       "      <th>1</th>\n",
       "      <td>NaN</td>\n",
       "      <td>0.377209</td>\n",
       "      <td>0.469845</td>\n",
       "      <td>0.438923</td>\n",
       "      <td>0.364476</td>\n",
       "      <td>0.283740</td>\n",
       "      <td>0.212053</td>\n",
       "    </tr>\n",
       "    <tr>\n",
       "      <th>2</th>\n",
       "      <td>NaN</td>\n",
       "      <td>NaN</td>\n",
       "      <td>0.142287</td>\n",
       "      <td>0.265845</td>\n",
       "      <td>0.331131</td>\n",
       "      <td>0.343709</td>\n",
       "      <td>0.321088</td>\n",
       "    </tr>\n",
       "    <tr>\n",
       "      <th>3</th>\n",
       "      <td>NaN</td>\n",
       "      <td>NaN</td>\n",
       "      <td>NaN</td>\n",
       "      <td>0.053672</td>\n",
       "      <td>0.133706</td>\n",
       "      <td>0.208176</td>\n",
       "      <td>0.259301</td>\n",
       "    </tr>\n",
       "    <tr>\n",
       "      <th>4</th>\n",
       "      <td>NaN</td>\n",
       "      <td>NaN</td>\n",
       "      <td>NaN</td>\n",
       "      <td>NaN</td>\n",
       "      <td>0.020246</td>\n",
       "      <td>0.063044</td>\n",
       "      <td>0.117789</td>\n",
       "    </tr>\n",
       "    <tr>\n",
       "      <th>5</th>\n",
       "      <td>NaN</td>\n",
       "      <td>NaN</td>\n",
       "      <td>NaN</td>\n",
       "      <td>NaN</td>\n",
       "      <td>NaN</td>\n",
       "      <td>0.007637</td>\n",
       "      <td>0.028537</td>\n",
       "    </tr>\n",
       "    <tr>\n",
       "      <th>6</th>\n",
       "      <td>NaN</td>\n",
       "      <td>NaN</td>\n",
       "      <td>NaN</td>\n",
       "      <td>NaN</td>\n",
       "      <td>NaN</td>\n",
       "      <td>NaN</td>\n",
       "      <td>0.002881</td>\n",
       "    </tr>\n",
       "  </tbody>\n",
       "</table>\n",
       "</div>"
      ],
      "text/plain": [
       "   Month0    Month1    Month2    Month3    Month4    Month5    Month6\n",
       "0     1.0  0.622791  0.387868  0.241561  0.150442  0.093694  0.058352\n",
       "1     NaN  0.377209  0.469845  0.438923  0.364476  0.283740  0.212053\n",
       "2     NaN       NaN  0.142287  0.265845  0.331131  0.343709  0.321088\n",
       "3     NaN       NaN       NaN  0.053672  0.133706  0.208176  0.259301\n",
       "4     NaN       NaN       NaN       NaN  0.020246  0.063044  0.117789\n",
       "5     NaN       NaN       NaN       NaN       NaN  0.007637  0.028537\n",
       "6     NaN       NaN       NaN       NaN       NaN       NaN  0.002881"
      ]
     },
     "execution_count": 33,
     "metadata": {},
     "output_type": "execute_result"
    }
   ],
   "source": [
    "projected_probailities = []\n",
    "current_prob = [1]\n",
    "projected_probailities.append(current_prob)\n",
    "\n",
    "for i in range(1,number_price_changes+1):\n",
    "    temp = []\n",
    "    for j in range(0,len(projected_probailities[i-1])+1):\n",
    "        if j==0:\n",
    "            prob = projected_probailities[i-1][0] * up_probability\n",
    "        elif j==len(projected_probailities[i-1]):\n",
    "            prob = projected_probailities[i-1][j-1] * down_probability\n",
    "        else:\n",
    "            prob = projected_probailities[i-1][j-1] * down_probability + projected_probailities[i-1][j] * up_probability\n",
    "        #print(prob)\n",
    "        temp.append(prob)\n",
    "    #print(\"--\")\n",
    "    projected_probailities.append(temp)\n",
    "    \n",
    "tree = pd.DataFrame(projected_probailities).T\n",
    "tree.columns = ['Month'+str(i) for i in range(0,number_price_changes+1)]\n",
    "tree"
   ]
  },
  {
   "cell_type": "markdown",
   "metadata": {},
   "source": [
    "### Probability of stock price being greater than starting price in 6 months time"
   ]
  },
  {
   "cell_type": "code",
   "execution_count": 34,
   "metadata": {},
   "outputs": [
    {
     "name": "stdout",
     "output_type": "stream",
     "text": [
      "Probability: 59.15%\n"
     ]
    }
   ],
   "source": [
    "result = projected_probailities[6][0] + projected_probailities[6][1] + projected_probailities[6][2]\n",
    "print(\"Probability: %5.2f%%\" % (result * 100))"
   ]
  },
  {
   "cell_type": "markdown",
   "metadata": {},
   "source": [
    "### Expected stock price on a monthly basis"
   ]
  },
  {
   "cell_type": "code",
   "execution_count": 35,
   "metadata": {},
   "outputs": [
    {
     "name": "stdout",
     "output_type": "stream",
     "text": [
      "Month 0: 1046.400024\n",
      "Month 1: 1065.6041806826443\n",
      "Month 2: 1085.1607834905112\n",
      "Month 3: 1105.0763007248772\n",
      "Month 4: 1125.3573193971374\n",
      "Month 5: 1146.0105474074453\n",
      "Month 6: 1167.0428157633332\n"
     ]
    }
   ],
   "source": [
    "for i in range(0,number_price_changes+1):\n",
    "    expected_price = np.dot(projected_prices[i], projected_probailities[i])\n",
    "    print(\"Month {}: {}\".format(i, expected_price))"
   ]
  },
  {
   "cell_type": "code",
   "execution_count": null,
   "metadata": {},
   "outputs": [],
   "source": []
  }
 ],
 "metadata": {
  "kernelspec": {
   "display_name": "Python 3",
   "language": "python",
   "name": "python3"
  },
  "language_info": {
   "codemirror_mode": {
    "name": "ipython",
    "version": 3
   },
   "file_extension": ".py",
   "mimetype": "text/x-python",
   "name": "python",
   "nbconvert_exporter": "python",
   "pygments_lexer": "ipython3",
   "version": "3.6.7"
  }
 },
 "nbformat": 4,
 "nbformat_minor": 2
}
