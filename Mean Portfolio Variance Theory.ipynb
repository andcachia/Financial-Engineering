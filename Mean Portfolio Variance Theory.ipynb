{
 "cells": [
  {
   "cell_type": "markdown",
   "metadata": {},
   "source": [
    "# Financial Engineering - Mean Variance Portfolio Theory\n",
    "\n",
    "###### Andrew Cachia, Dec 2018"
   ]
  },
  {
   "cell_type": "code",
   "execution_count": 22,
   "metadata": {},
   "outputs": [],
   "source": [
    "import numpy as np\n",
    "import pandas as pd\n",
    "import random\n",
    "import matplotlib.pyplot as plt  \n",
    "from pandas_datareader import data as pdr\n",
    "import fix_yahoo_finance as yf\n",
    "from scipy.optimize import minimize\n",
    "from scipy.special import ndtri"
   ]
  },
  {
   "cell_type": "markdown",
   "metadata": {},
   "source": [
    "### Data\n",
    "Retrieving daily closing price data for the following stocks:\n",
    "- S&P500 Index [SPY]\n",
    "- FTSE 100 Index [UKX]\n",
    "- Gold SPDY [GLD]\n",
    "- Google [GOOG]\n",
    "- Amazon [AMZN]"
   ]
  },
  {
   "cell_type": "code",
   "execution_count": 23,
   "metadata": {},
   "outputs": [
    {
     "data": {
      "text/plain": [
       "Date\n",
       "2017-12-29    7687.77\n",
       "2017-12-28    7622.88\n",
       "2017-12-27    7620.68\n",
       "2017-12-22    7592.66\n",
       "2017-12-21    7603.98\n",
       "Name: FTSE 100, dtype: float64"
      ]
     },
     "execution_count": 23,
     "metadata": {},
     "output_type": "execute_result"
    }
   ],
   "source": [
    "ftse = pd.read_csv('Assignment/ftse-100.csv', parse_dates=True,index_col=0, date_parser=lambda x: pd.to_datetime(x).strftime(\"%d/%m/%Y\"))\n",
    "ftse = ftse['FTSE 100']\n",
    "ftse.head()"
   ]
  },
  {
   "cell_type": "code",
   "execution_count": 24,
   "metadata": {},
   "outputs": [
    {
     "name": "stdout",
     "output_type": "stream",
     "text": [
      "[*********************100%***********************]  2 of 2 downloaded\n"
     ]
    },
    {
     "data": {
      "text/html": [
       "<div>\n",
       "<style scoped>\n",
       "    .dataframe tbody tr th:only-of-type {\n",
       "        vertical-align: middle;\n",
       "    }\n",
       "\n",
       "    .dataframe tbody tr th {\n",
       "        vertical-align: top;\n",
       "    }\n",
       "\n",
       "    .dataframe thead th {\n",
       "        text-align: right;\n",
       "    }\n",
       "</style>\n",
       "<table border=\"1\" class=\"dataframe\">\n",
       "  <thead>\n",
       "    <tr style=\"text-align: right;\">\n",
       "      <th></th>\n",
       "      <th>GLD</th>\n",
       "      <th>^GSPC</th>\n",
       "      <th>FTSE</th>\n",
       "    </tr>\n",
       "    <tr>\n",
       "      <th>Date</th>\n",
       "      <th></th>\n",
       "      <th></th>\n",
       "      <th></th>\n",
       "    </tr>\n",
       "  </thead>\n",
       "  <tbody>\n",
       "    <tr>\n",
       "      <th>2013-12-31</th>\n",
       "      <td>116.120003</td>\n",
       "      <td>1848.359985</td>\n",
       "      <td>NaN</td>\n",
       "    </tr>\n",
       "    <tr>\n",
       "      <th>2014-01-02</th>\n",
       "      <td>118.000000</td>\n",
       "      <td>1831.979980</td>\n",
       "      <td>6717.91</td>\n",
       "    </tr>\n",
       "    <tr>\n",
       "      <th>2014-01-03</th>\n",
       "      <td>119.290001</td>\n",
       "      <td>1831.369995</td>\n",
       "      <td>6730.67</td>\n",
       "    </tr>\n",
       "    <tr>\n",
       "      <th>2014-01-06</th>\n",
       "      <td>119.500000</td>\n",
       "      <td>1826.770020</td>\n",
       "      <td>6730.73</td>\n",
       "    </tr>\n",
       "    <tr>\n",
       "      <th>2014-01-07</th>\n",
       "      <td>118.820000</td>\n",
       "      <td>1837.880005</td>\n",
       "      <td>6755.45</td>\n",
       "    </tr>\n",
       "  </tbody>\n",
       "</table>\n",
       "</div>"
      ],
      "text/plain": [
       "                   GLD        ^GSPC     FTSE\n",
       "Date                                        \n",
       "2013-12-31  116.120003  1848.359985      NaN\n",
       "2014-01-02  118.000000  1831.979980  6717.91\n",
       "2014-01-03  119.290001  1831.369995  6730.67\n",
       "2014-01-06  119.500000  1826.770020  6730.73\n",
       "2014-01-07  118.820000  1837.880005  6755.45"
      ]
     },
     "execution_count": 24,
     "metadata": {},
     "output_type": "execute_result"
    }
   ],
   "source": [
    "date_start = \"2014-01-01\"\n",
    "date_end = \"2017-12-31\"\n",
    "\n",
    "symbols = ['^GSPC','GLD']\n",
    "\n",
    "data = pd.DataFrame()\n",
    "yf.pdr_override() \n",
    "data = pdr.get_data_yahoo(symbols, start=date_start, end=date_end)\n",
    "data = data['Adj Close']\n",
    "data['FTSE'] = ftse\n",
    "data.head()"
   ]
  },
  {
   "cell_type": "markdown",
   "metadata": {},
   "source": [
    "## Calculating logarithmic returns\n",
    "We use logarithmic returns as this will allow us to assume that prices are distributed log normally. This is convenient since much of classic statistics assumes log normality. "
   ]
  },
  {
   "cell_type": "code",
   "execution_count": 25,
   "metadata": {},
   "outputs": [],
   "source": [
    "returns = data / data.shift(1)\n",
    "returns = np.log(returns)\n",
    "returns = returns.dropna()"
   ]
  },
  {
   "cell_type": "markdown",
   "metadata": {},
   "source": [
    "##### Generic Functions"
   ]
  },
  {
   "cell_type": "code",
   "execution_count": 26,
   "metadata": {},
   "outputs": [],
   "source": [
    "def mean(list):\n",
    "    return list.sum() / len(list)\n",
    "\n",
    "def generic_function(X,Y,exp):\n",
    "    results = {}\n",
    "    for i in X:\n",
    "        sum = 0\n",
    "        for j in X[i]:\n",
    "            sum += (j - Y[i])**exp\n",
    "        results[i] = sum / len(X[i])\n",
    "    \n",
    "    return results\n",
    "\n",
    "def variance(list,mean_list):\n",
    "    return generic_function(list, mean_list, 2)"
   ]
  },
  {
   "cell_type": "markdown",
   "metadata": {},
   "source": [
    "##### Standard Deviation\n",
    "Standard Deviation is used to describe the hisotrical volatility of an instrument. \n",
    "The greater the standard deviation, the larger the price range and fluctuations.\n",
    "\\begin{equation*}\n",
    "\\sqrt{\\frac{\\sum(X - \\overline{X}) ^2} {N}}\n",
    "\\end{equation*}"
   ]
  },
  {
   "cell_type": "code",
   "execution_count": 27,
   "metadata": {},
   "outputs": [],
   "source": [
    "def std_dev(list,mean_list):\n",
    "    var = variance(list,mean_list)\n",
    "    for i in var:\n",
    "        var[i] = np.sqrt(var[i])\n",
    "    return var"
   ]
  },
  {
   "cell_type": "markdown",
   "metadata": {},
   "source": [
    "##### Annual Volatility"
   ]
  },
  {
   "cell_type": "code",
   "execution_count": 28,
   "metadata": {},
   "outputs": [],
   "source": [
    "def annualVolatility(volatility_list):\n",
    "    results = {}\n",
    "    for i in volatility_list:\n",
    "        results[i] = (volatility_list[i] * np.sqrt(250))# * 100\n",
    "        \n",
    "    return results"
   ]
  },
  {
   "cell_type": "markdown",
   "metadata": {},
   "source": [
    "### Calculating Distribution Moments"
   ]
  },
  {
   "cell_type": "code",
   "execution_count": 29,
   "metadata": {},
   "outputs": [
    {
     "data": {
      "text/html": [
       "<div>\n",
       "<style scoped>\n",
       "    .dataframe tbody tr th:only-of-type {\n",
       "        vertical-align: middle;\n",
       "    }\n",
       "\n",
       "    .dataframe tbody tr th {\n",
       "        vertical-align: top;\n",
       "    }\n",
       "\n",
       "    .dataframe thead th {\n",
       "        text-align: right;\n",
       "    }\n",
       "</style>\n",
       "<table border=\"1\" class=\"dataframe\">\n",
       "  <thead>\n",
       "    <tr style=\"text-align: right;\">\n",
       "      <th></th>\n",
       "      <th>FTSE</th>\n",
       "      <th>GLD</th>\n",
       "      <th>^GSPC</th>\n",
       "    </tr>\n",
       "  </thead>\n",
       "  <tbody>\n",
       "    <tr>\n",
       "      <th>Average Return</th>\n",
       "      <td>0.000164</td>\n",
       "      <td>-0.000010</td>\n",
       "      <td>0.000397</td>\n",
       "    </tr>\n",
       "    <tr>\n",
       "      <th>Volatility</th>\n",
       "      <td>0.008867</td>\n",
       "      <td>0.008811</td>\n",
       "      <td>0.007620</td>\n",
       "    </tr>\n",
       "    <tr>\n",
       "      <th>Annual Return</th>\n",
       "      <td>0.041971</td>\n",
       "      <td>-0.002429</td>\n",
       "      <td>0.104328</td>\n",
       "    </tr>\n",
       "    <tr>\n",
       "      <th>Annual Volatility</th>\n",
       "      <td>0.140198</td>\n",
       "      <td>0.139309</td>\n",
       "      <td>0.120475</td>\n",
       "    </tr>\n",
       "  </tbody>\n",
       "</table>\n",
       "</div>"
      ],
      "text/plain": [
       "                       FTSE       GLD     ^GSPC\n",
       "Average Return     0.000164 -0.000010  0.000397\n",
       "Volatility         0.008867  0.008811  0.007620\n",
       "Annual Return      0.041971 -0.002429  0.104328\n",
       "Annual Volatility  0.140198  0.139309  0.120475"
      ]
     },
     "execution_count": 29,
     "metadata": {},
     "output_type": "execute_result"
    }
   ],
   "source": [
    "avg_return = mean(returns)\n",
    "volatility = std_dev(returns, avg_return)\n",
    "\n",
    "annual_return = (((1 + avg_return)**250 - 1)) # * 100)\n",
    "annual_volatility = annualVolatility(volatility)\n",
    "\n",
    "I = pd.Index([\"Average Return\", \"Volatility\", \"Annual Return\", \"Annual Volatility\"])\n",
    "data = [avg_return.to_dict(), volatility, annual_return.to_dict(), annual_volatility]\n",
    "pd.DataFrame(data, index=I)"
   ]
  },
  {
   "cell_type": "code",
   "execution_count": null,
   "metadata": {},
   "outputs": [],
   "source": []
  },
  {
   "cell_type": "markdown",
   "metadata": {},
   "source": [
    "##### Covariance\n",
    "Covariance is a measure of the directional relationship between the returns on two risky assets. A positive covariance means that asset returns move together while a negative covariance means returns move inversely.\n",
    "\\begin{equation*}\n",
    "\\frac{1}{N}\\sum_{i=1}^N(X - \\overline{X})(Y - \\overline{Y})\n",
    "\\end{equation*}"
   ]
  },
  {
   "cell_type": "code",
   "execution_count": 30,
   "metadata": {},
   "outputs": [],
   "source": [
    "def covariance(X,Y):\n",
    "    meanX = mean(X)\n",
    "    meanY = mean(Y)\n",
    "\n",
    "    sum = 0\n",
    "\n",
    "    for i in range(0, len(X)):\n",
    "        sum += ((X[i] - meanX) * (Y[i] - meanY))\n",
    "\n",
    "    return sum/(len(X)-1)"
   ]
  },
  {
   "cell_type": "markdown",
   "metadata": {},
   "source": [
    "# Mean-Variance Portfolio Theory"
   ]
  },
  {
   "cell_type": "markdown",
   "metadata": {},
   "source": [
    "Portfolio Variance:\n",
    "\n",
    "$ \\theta_p^2 = w_A^2\\theta_A^2 + w_B^2\\theta_B^2 + w_C^2\\theta_C^2 + 2w_Aw_BCov_{AB} + 2w_Bw_CCov_{BC} + 2w_Aw_CCov_{AC} $"
   ]
  },
  {
   "cell_type": "code",
   "execution_count": 31,
   "metadata": {},
   "outputs": [],
   "source": [
    "covarianceAB = covariance(returns['^GSPC'],returns['FTSE'])\n",
    "covarianceBC = covariance(returns['FTSE'],returns['GLD'])\n",
    "covarianceAC = covariance(returns['^GSPC'],returns['GLD'])\n",
    "\n",
    "def portfolio_stats(w1,w2,w3):\n",
    "    \n",
    "    portfolio_return = w1*annual_return['^GSPC'] + w2*annual_return['FTSE'] + w3*annual_return['GLD']\n",
    "    \n",
    "    portfolio_variance = w1**2 * annual_volatility['^GSPC']**2 + w2**2 * annual_volatility['FTSE']**2 + w3**2 * annual_volatility['GLD']**2 \\\n",
    "        + 2*w1*w2*covarianceAB \\\n",
    "        + 2*w2*w3*covarianceBC \\\n",
    "        + 2*w1*w3*covarianceAC\n",
    "    \n",
    "    return portfolio_return, portfolio_variance"
   ]
  },
  {
   "cell_type": "markdown",
   "metadata": {},
   "source": [
    "#### Equal Weightings"
   ]
  },
  {
   "cell_type": "code",
   "execution_count": 32,
   "metadata": {},
   "outputs": [
    {
     "name": "stdout",
     "output_type": "stream",
     "text": [
      "Portfolio Return:  4.80%\n",
      "Portfolio Std Dev:  7.72%\n"
     ]
    }
   ],
   "source": [
    "w1 = 1/3\n",
    "w2 = 1/3\n",
    "w3 = 1/3\n",
    "\n",
    "portfolio_return, portfolio_variance  = portfolio_stats(w1,w2,w3)\n",
    "\n",
    "print(\"Portfolio Return: %5.2f%%\" % (portfolio_return * 100))\n",
    "print(\"Portfolio Std Dev: %5.2f%%\" % (np.sqrt(portfolio_variance) * 100))"
   ]
  },
  {
   "cell_type": "markdown",
   "metadata": {},
   "source": [
    "#### Simulation with 2000 different weighting combinations"
   ]
  },
  {
   "cell_type": "code",
   "execution_count": 33,
   "metadata": {},
   "outputs": [
    {
     "data": {
      "text/plain": [
       "[<matplotlib.lines.Line2D at 0x7f411cb28b70>]"
      ]
     },
     "execution_count": 33,
     "metadata": {},
     "output_type": "execute_result"
    },
    {
     "data": {
      "image/png": "[encoded data removed]",
      "text/plain": [
       "<Figure size 720x720 with 1 Axes>"
      ]
     },
     "metadata": {
      "needs_background": "light"
     },
     "output_type": "display_data"
    }
   ],
   "source": [
    "x = []\n",
    "y = []\n",
    "\n",
    "for i in range(0,2000):\n",
    "    weights = np.random.random(3)\n",
    "    weights /= np.sum(weights)\n",
    "    \n",
    "    portfolio_return, portfolio_variance  = portfolio_stats(weights[0],weights[1],weights[2])\n",
    "    \n",
    "    x.append(portfolio_variance)\n",
    "    y.append(portfolio_return)\n",
    "    \n",
    "fig = plt.figure(figsize=(10, 10))\n",
    "plt.plot(x, y, 'ro', label='Data')"
   ]
  },
  {
   "cell_type": "code",
   "execution_count": 34,
   "metadata": {},
   "outputs": [
    {
     "name": "stdout",
     "output_type": "stream",
     "text": [
      "Portfolio Return:  5.50%\n"
     ]
    }
   ],
   "source": [
    "print(\"Portfolio Return: %5.2f%%\" % (portfolio_return * 100))"
   ]
  },
  {
   "cell_type": "markdown",
   "metadata": {},
   "source": [
    "### Value At Risk (VaR)\n",
    "\n",
    "The Value at Risk statistic is used to measure the amount of portfolio risk over a specific time frame. Here we are taking the 0.95 percentile. \n",
    "\n",
    "This means that the VaR amounts to 'x', then the portfolio has 5% chance of losing 'x' amount within the specified time frame."
   ]
  },
  {
   "cell_type": "code",
   "execution_count": 35,
   "metadata": {},
   "outputs": [],
   "source": [
    "def value_at_risk(params):\n",
    "    w1,w2,w3 = params\n",
    "    \n",
    "    portfolio_return, portfolio_variance  = portfolio_stats(w1,w2,w3)\n",
    "    \n",
    "    alpha = ndtri(0.95)\n",
    "    \n",
    "    VaR = alpha * np.sqrt(portfolio_variance)\n",
    "    \n",
    "    return VaR"
   ]
  },
  {
   "cell_type": "markdown",
   "metadata": {},
   "source": [
    "### Sharpe Ratio\n",
    "\n",
    "The Sharpe Ratio is used to measure the performance of a portfolio whilst also taking into account the amount of risk exposure.\n",
    "\n",
    "(Note that a negative sign is added to the return value since we want to determine the highest sharpe ratio - thus the minimization function will return the lowest and we invert it)."
   ]
  },
  {
   "cell_type": "code",
   "execution_count": 36,
   "metadata": {},
   "outputs": [],
   "source": [
    "def sharpe_ratio(params):\n",
    "    w1,w2,w3 = params\n",
    "    \n",
    "    portfolio_return, portfolio_variance  = portfolio_stats(w1,w2,w3)\n",
    "    \n",
    "    portfolio_std_dev = np.sqrt(portfolio_variance)\n",
    "    \n",
    "    return -portfolio_return/portfolio_std_dev"
   ]
  },
  {
   "cell_type": "markdown",
   "metadata": {},
   "source": [
    "### Portfolio Optimzation\n",
    "\n",
    "Here an optimzation library is being used to determine the optimal weights that will generate a portfolio with either the highest sharpe ratio or the lowest VaR."
   ]
  },
  {
   "cell_type": "code",
   "execution_count": 37,
   "metadata": {},
   "outputs": [
    {
     "name": "stdout",
     "output_type": "stream",
     "text": [
      "Optimization terminated successfully.    (Exit mode 0)\n",
      "            Current function value: -0.9156022008969404\n",
      "            Iterations: 5\n",
      "            Function evaluations: 25\n",
      "            Gradient evaluations: 5\n",
      "Optimization terminated successfully.    (Exit mode 0)\n",
      "            Current function value: 0.125716132965744\n",
      "            Iterations: 5\n",
      "            Function evaluations: 25\n",
      "            Gradient evaluations: 5\n",
      "\n",
      "\n",
      "Highest Sharpe Ratio\n",
      "Portfolio Weights: [7.72036772e-01 2.27963228e-01 1.19262239e-18]\n",
      "Sharpe Ratio: 0.9156022008969404\n",
      "\n",
      "\n",
      "Lowest Value at Risk\n",
      "Portfolio Weights: [0.40293468 0.29633094 0.30073438]\n",
      "VaR: 0.125716132965744\n"
     ]
    },
    {
     "data": {
      "image/png": "[encoded data removed]",
      "text/plain": [
       "<Figure size 720x720 with 1 Axes>"
      ]
     },
     "metadata": {
      "needs_background": "light"
     },
     "output_type": "display_data"
    }
   ],
   "source": [
    "def apply_sum_constraint(inputs):\n",
    "    total = 1 - np.sum(inputs)\n",
    "    return total\n",
    "\n",
    "my_constraints = ({'type': 'eq', \"fun\": apply_sum_constraint })\n",
    "\n",
    "maxSharpeRatio = minimize(sharpe_ratio,\n",
    "                   [0.5,0.2,0.3], \n",
    "                   method='SLSQP', \n",
    "                   bounds=((0,1),(0,1),(0,1)),\n",
    "                   options={'disp': True},\n",
    "                   constraints=my_constraints)\n",
    "\n",
    "sr_y,sr_x = portfolio_stats(maxSharpeRatio.x[0], maxSharpeRatio.x[1],maxSharpeRatio.x[2])\n",
    "\n",
    "\n",
    "minVaR = minimize(value_at_risk,\n",
    "                   [0.5,0.2,0.3], \n",
    "                   method='SLSQP', \n",
    "                   bounds=((0,1),(0,1),(0,1)),\n",
    "                   options={'disp': True},\n",
    "                   constraints=my_constraints)\n",
    "\n",
    "var_y, var_x = portfolio_stats(minVaR.x[0], minVaR.x[1], minVaR.x[2])\n",
    "\n",
    "fig = plt.figure(figsize=(10, 10))\n",
    "plt.plot(x, y, 'ro', label='Data')\n",
    "plt.plot(sr_x, sr_y, '*', markersize=30, label='Data')\n",
    "plt.plot(var_x, var_y, '*', markersize=30, label='Data')\n",
    "               \n",
    "               \n",
    "print(\"\\n\\nHighest Sharpe Ratio\")\n",
    "print(\"Portfolio Weights: {}\".format(maxSharpeRatio.x))\n",
    "print(\"Sharpe Ratio: {}\".format(-maxSharpeRatio.fun))  \n",
    "               \n",
    "print(\"\\n\\nLowest Value at Risk\")\n",
    "print(\"Portfolio Weights: {}\".format(minVaR.x))\n",
    "print(\"VaR: {}\".format(minVaR.fun))  "
   ]
  },
  {
   "cell_type": "code",
   "execution_count": null,
   "metadata": {},
   "outputs": [],
   "source": []
  }
 ],
 "metadata": {
  "kernelspec": {
   "display_name": "Python 3",
   "language": "python",
   "name": "python3"
  },
  "language_info": {
   "codemirror_mode": {
    "name": "ipython",
    "version": 3
   },
   "file_extension": ".py",
   "mimetype": "text/x-python",
   "name": "python",
   "nbconvert_exporter": "python",
   "pygments_lexer": "ipython3",
   "version": "3.6.7"
  }
 },
 "nbformat": 4,
 "nbformat_minor": 2
}
